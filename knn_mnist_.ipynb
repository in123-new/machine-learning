{
  "cells": [
    {
      "cell_type": "markdown",
      "metadata": {
        "id": "view-in-github",
        "colab_type": "text"
      },
      "source": [
        "<a href=\"https://colab.research.google.com/github/in123-new/machine-learning/blob/main/knn_mnist_.ipynb\" target=\"_parent\"><img src=\"https://colab.research.google.com/assets/colab-badge.svg\" alt=\"Open In Colab\"/></a>"
      ]
    },
    {
      "cell_type": "code",
      "execution_count": null,
      "id": "f0c319d9",
      "metadata": {
        "id": "f0c319d9"
      },
      "outputs": [],
      "source": [
        "import numpy as np\n",
        "import pandas as pd\n",
        "import matplotlib.pyplot as plt"
      ]
    },
    {
      "cell_type": "markdown",
      "id": "0deadd26",
      "metadata": {
        "id": "0deadd26"
      },
      "source": [
        "### En ligne importation"
      ]
    },
    {
      "cell_type": "code",
      "execution_count": null,
      "id": "cdeab262",
      "metadata": {
        "colab": {
          "base_uri": "https://localhost:8080/"
        },
        "id": "cdeab262",
        "outputId": "8687e928-be46-414a-d660-70b989fda2d7"
      },
      "outputs": [
        {
          "output_type": "stream",
          "name": "stderr",
          "text": [
            "/usr/local/lib/python3.7/dist-packages/sklearn/datasets/_openml.py:65: RuntimeWarning: Invalid cache, redownloading file\n",
            "  warn(\"Invalid cache, redownloading file\", RuntimeWarning)\n"
          ]
        }
      ],
      "source": [
        "from sklearn.datasets import fetch_openml\n",
        "mnist = fetch_openml('mnist_784', version=1)"
      ]
    },
    {
      "cell_type": "code",
      "execution_count": null,
      "id": "9c8ecdf0",
      "metadata": {
        "id": "9c8ecdf0",
        "outputId": "d85cfceb-1583-47a0-b9d1-44c8b24300c8",
        "colab": {
          "base_uri": "https://localhost:8080/",
          "height": 334
        }
      },
      "outputs": [
        {
          "output_type": "stream",
          "name": "stdout",
          "text": [
            "(70000, 784)\n",
            "(70000,)\n"
          ]
        },
        {
          "output_type": "execute_result",
          "data": {
            "text/plain": [
              "   pixel1  pixel2  pixel3  pixel4  pixel5  pixel6  pixel7  pixel8  pixel9  \\\n",
              "0     0.0     0.0     0.0     0.0     0.0     0.0     0.0     0.0     0.0   \n",
              "1     0.0     0.0     0.0     0.0     0.0     0.0     0.0     0.0     0.0   \n",
              "2     0.0     0.0     0.0     0.0     0.0     0.0     0.0     0.0     0.0   \n",
              "3     0.0     0.0     0.0     0.0     0.0     0.0     0.0     0.0     0.0   \n",
              "4     0.0     0.0     0.0     0.0     0.0     0.0     0.0     0.0     0.0   \n",
              "\n",
              "   pixel10  ...  pixel775  pixel776  pixel777  pixel778  pixel779  pixel780  \\\n",
              "0      0.0  ...       0.0       0.0       0.0       0.0       0.0       0.0   \n",
              "1      0.0  ...       0.0       0.0       0.0       0.0       0.0       0.0   \n",
              "2      0.0  ...       0.0       0.0       0.0       0.0       0.0       0.0   \n",
              "3      0.0  ...       0.0       0.0       0.0       0.0       0.0       0.0   \n",
              "4      0.0  ...       0.0       0.0       0.0       0.0       0.0       0.0   \n",
              "\n",
              "   pixel781  pixel782  pixel783  pixel784  \n",
              "0       0.0       0.0       0.0       0.0  \n",
              "1       0.0       0.0       0.0       0.0  \n",
              "2       0.0       0.0       0.0       0.0  \n",
              "3       0.0       0.0       0.0       0.0  \n",
              "4       0.0       0.0       0.0       0.0  \n",
              "\n",
              "[5 rows x 784 columns]"
            ],
            "text/html": [
              "\n",
              "  <div id=\"df-6149fad1-9c2f-48d7-ba96-d7338bd0bbf4\">\n",
              "    <div class=\"colab-df-container\">\n",
              "      <div>\n",
              "<style scoped>\n",
              "    .dataframe tbody tr th:only-of-type {\n",
              "        vertical-align: middle;\n",
              "    }\n",
              "\n",
              "    .dataframe tbody tr th {\n",
              "        vertical-align: top;\n",
              "    }\n",
              "\n",
              "    .dataframe thead th {\n",
              "        text-align: right;\n",
              "    }\n",
              "</style>\n",
              "<table border=\"1\" class=\"dataframe\">\n",
              "  <thead>\n",
              "    <tr style=\"text-align: right;\">\n",
              "      <th></th>\n",
              "      <th>pixel1</th>\n",
              "      <th>pixel2</th>\n",
              "      <th>pixel3</th>\n",
              "      <th>pixel4</th>\n",
              "      <th>pixel5</th>\n",
              "      <th>pixel6</th>\n",
              "      <th>pixel7</th>\n",
              "      <th>pixel8</th>\n",
              "      <th>pixel9</th>\n",
              "      <th>pixel10</th>\n",
              "      <th>...</th>\n",
              "      <th>pixel775</th>\n",
              "      <th>pixel776</th>\n",
              "      <th>pixel777</th>\n",
              "      <th>pixel778</th>\n",
              "      <th>pixel779</th>\n",
              "      <th>pixel780</th>\n",
              "      <th>pixel781</th>\n",
              "      <th>pixel782</th>\n",
              "      <th>pixel783</th>\n",
              "      <th>pixel784</th>\n",
              "    </tr>\n",
              "  </thead>\n",
              "  <tbody>\n",
              "    <tr>\n",
              "      <th>0</th>\n",
              "      <td>0.0</td>\n",
              "      <td>0.0</td>\n",
              "      <td>0.0</td>\n",
              "      <td>0.0</td>\n",
              "      <td>0.0</td>\n",
              "      <td>0.0</td>\n",
              "      <td>0.0</td>\n",
              "      <td>0.0</td>\n",
              "      <td>0.0</td>\n",
              "      <td>0.0</td>\n",
              "      <td>...</td>\n",
              "      <td>0.0</td>\n",
              "      <td>0.0</td>\n",
              "      <td>0.0</td>\n",
              "      <td>0.0</td>\n",
              "      <td>0.0</td>\n",
              "      <td>0.0</td>\n",
              "      <td>0.0</td>\n",
              "      <td>0.0</td>\n",
              "      <td>0.0</td>\n",
              "      <td>0.0</td>\n",
              "    </tr>\n",
              "    <tr>\n",
              "      <th>1</th>\n",
              "      <td>0.0</td>\n",
              "      <td>0.0</td>\n",
              "      <td>0.0</td>\n",
              "      <td>0.0</td>\n",
              "      <td>0.0</td>\n",
              "      <td>0.0</td>\n",
              "      <td>0.0</td>\n",
              "      <td>0.0</td>\n",
              "      <td>0.0</td>\n",
              "      <td>0.0</td>\n",
              "      <td>...</td>\n",
              "      <td>0.0</td>\n",
              "      <td>0.0</td>\n",
              "      <td>0.0</td>\n",
              "      <td>0.0</td>\n",
              "      <td>0.0</td>\n",
              "      <td>0.0</td>\n",
              "      <td>0.0</td>\n",
              "      <td>0.0</td>\n",
              "      <td>0.0</td>\n",
              "      <td>0.0</td>\n",
              "    </tr>\n",
              "    <tr>\n",
              "      <th>2</th>\n",
              "      <td>0.0</td>\n",
              "      <td>0.0</td>\n",
              "      <td>0.0</td>\n",
              "      <td>0.0</td>\n",
              "      <td>0.0</td>\n",
              "      <td>0.0</td>\n",
              "      <td>0.0</td>\n",
              "      <td>0.0</td>\n",
              "      <td>0.0</td>\n",
              "      <td>0.0</td>\n",
              "      <td>...</td>\n",
              "      <td>0.0</td>\n",
              "      <td>0.0</td>\n",
              "      <td>0.0</td>\n",
              "      <td>0.0</td>\n",
              "      <td>0.0</td>\n",
              "      <td>0.0</td>\n",
              "      <td>0.0</td>\n",
              "      <td>0.0</td>\n",
              "      <td>0.0</td>\n",
              "      <td>0.0</td>\n",
              "    </tr>\n",
              "    <tr>\n",
              "      <th>3</th>\n",
              "      <td>0.0</td>\n",
              "      <td>0.0</td>\n",
              "      <td>0.0</td>\n",
              "      <td>0.0</td>\n",
              "      <td>0.0</td>\n",
              "      <td>0.0</td>\n",
              "      <td>0.0</td>\n",
              "      <td>0.0</td>\n",
              "      <td>0.0</td>\n",
              "      <td>0.0</td>\n",
              "      <td>...</td>\n",
              "      <td>0.0</td>\n",
              "      <td>0.0</td>\n",
              "      <td>0.0</td>\n",
              "      <td>0.0</td>\n",
              "      <td>0.0</td>\n",
              "      <td>0.0</td>\n",
              "      <td>0.0</td>\n",
              "      <td>0.0</td>\n",
              "      <td>0.0</td>\n",
              "      <td>0.0</td>\n",
              "    </tr>\n",
              "    <tr>\n",
              "      <th>4</th>\n",
              "      <td>0.0</td>\n",
              "      <td>0.0</td>\n",
              "      <td>0.0</td>\n",
              "      <td>0.0</td>\n",
              "      <td>0.0</td>\n",
              "      <td>0.0</td>\n",
              "      <td>0.0</td>\n",
              "      <td>0.0</td>\n",
              "      <td>0.0</td>\n",
              "      <td>0.0</td>\n",
              "      <td>...</td>\n",
              "      <td>0.0</td>\n",
              "      <td>0.0</td>\n",
              "      <td>0.0</td>\n",
              "      <td>0.0</td>\n",
              "      <td>0.0</td>\n",
              "      <td>0.0</td>\n",
              "      <td>0.0</td>\n",
              "      <td>0.0</td>\n",
              "      <td>0.0</td>\n",
              "      <td>0.0</td>\n",
              "    </tr>\n",
              "  </tbody>\n",
              "</table>\n",
              "<p>5 rows × 784 columns</p>\n",
              "</div>\n",
              "      <button class=\"colab-df-convert\" onclick=\"convertToInteractive('df-6149fad1-9c2f-48d7-ba96-d7338bd0bbf4')\"\n",
              "              title=\"Convert this dataframe to an interactive table.\"\n",
              "              style=\"display:none;\">\n",
              "        \n",
              "  <svg xmlns=\"http://www.w3.org/2000/svg\" height=\"24px\"viewBox=\"0 0 24 24\"\n",
              "       width=\"24px\">\n",
              "    <path d=\"M0 0h24v24H0V0z\" fill=\"none\"/>\n",
              "    <path d=\"M18.56 5.44l.94 2.06.94-2.06 2.06-.94-2.06-.94-.94-2.06-.94 2.06-2.06.94zm-11 1L8.5 8.5l.94-2.06 2.06-.94-2.06-.94L8.5 2.5l-.94 2.06-2.06.94zm10 10l.94 2.06.94-2.06 2.06-.94-2.06-.94-.94-2.06-.94 2.06-2.06.94z\"/><path d=\"M17.41 7.96l-1.37-1.37c-.4-.4-.92-.59-1.43-.59-.52 0-1.04.2-1.43.59L10.3 9.45l-7.72 7.72c-.78.78-.78 2.05 0 2.83L4 21.41c.39.39.9.59 1.41.59.51 0 1.02-.2 1.41-.59l7.78-7.78 2.81-2.81c.8-.78.8-2.07 0-2.86zM5.41 20L4 18.59l7.72-7.72 1.47 1.35L5.41 20z\"/>\n",
              "  </svg>\n",
              "      </button>\n",
              "      \n",
              "  <style>\n",
              "    .colab-df-container {\n",
              "      display:flex;\n",
              "      flex-wrap:wrap;\n",
              "      gap: 12px;\n",
              "    }\n",
              "\n",
              "    .colab-df-convert {\n",
              "      background-color: #E8F0FE;\n",
              "      border: none;\n",
              "      border-radius: 50%;\n",
              "      cursor: pointer;\n",
              "      display: none;\n",
              "      fill: #1967D2;\n",
              "      height: 32px;\n",
              "      padding: 0 0 0 0;\n",
              "      width: 32px;\n",
              "    }\n",
              "\n",
              "    .colab-df-convert:hover {\n",
              "      background-color: #E2EBFA;\n",
              "      box-shadow: 0px 1px 2px rgba(60, 64, 67, 0.3), 0px 1px 3px 1px rgba(60, 64, 67, 0.15);\n",
              "      fill: #174EA6;\n",
              "    }\n",
              "\n",
              "    [theme=dark] .colab-df-convert {\n",
              "      background-color: #3B4455;\n",
              "      fill: #D2E3FC;\n",
              "    }\n",
              "\n",
              "    [theme=dark] .colab-df-convert:hover {\n",
              "      background-color: #434B5C;\n",
              "      box-shadow: 0px 1px 3px 1px rgba(0, 0, 0, 0.15);\n",
              "      filter: drop-shadow(0px 1px 2px rgba(0, 0, 0, 0.3));\n",
              "      fill: #FFFFFF;\n",
              "    }\n",
              "  </style>\n",
              "\n",
              "      <script>\n",
              "        const buttonEl =\n",
              "          document.querySelector('#df-6149fad1-9c2f-48d7-ba96-d7338bd0bbf4 button.colab-df-convert');\n",
              "        buttonEl.style.display =\n",
              "          google.colab.kernel.accessAllowed ? 'block' : 'none';\n",
              "\n",
              "        async function convertToInteractive(key) {\n",
              "          const element = document.querySelector('#df-6149fad1-9c2f-48d7-ba96-d7338bd0bbf4');\n",
              "          const dataTable =\n",
              "            await google.colab.kernel.invokeFunction('convertToInteractive',\n",
              "                                                     [key], {});\n",
              "          if (!dataTable) return;\n",
              "\n",
              "          const docLinkHtml = 'Like what you see? Visit the ' +\n",
              "            '<a target=\"_blank\" href=https://colab.research.google.com/notebooks/data_table.ipynb>data table notebook</a>'\n",
              "            + ' to learn more about interactive tables.';\n",
              "          element.innerHTML = '';\n",
              "          dataTable['output_type'] = 'display_data';\n",
              "          await google.colab.output.renderOutput(dataTable, element);\n",
              "          const docLink = document.createElement('div');\n",
              "          docLink.innerHTML = docLinkHtml;\n",
              "          element.appendChild(docLink);\n",
              "        }\n",
              "      </script>\n",
              "    </div>\n",
              "  </div>\n",
              "  "
            ]
          },
          "metadata": {},
          "execution_count": 3
        }
      ],
      "source": [
        "print (mnist.data.shape)\n",
        "print (mnist.target.shape)\n",
        "data=mnist.data\n",
        "data.head()"
      ]
    },
    {
      "cell_type": "code",
      "execution_count": null,
      "id": "f5bd65e7",
      "metadata": {
        "id": "f5bd65e7",
        "outputId": "d6536f16-3bc9-4bc8-ca2c-644504600a72"
      },
      "outputs": [
        {
          "data": {
            "text/plain": [
              "0    5\n",
              "1    0\n",
              "2    4\n",
              "3    1\n",
              "4    9\n",
              "Name: class, dtype: category\n",
              "Categories (10, object): ['0', '1', '2', '3', ..., '6', '7', '8', '9']"
            ]
          },
          "execution_count": 7,
          "metadata": {},
          "output_type": "execute_result"
        }
      ],
      "source": [
        "target=mnist.target\n",
        "target.head()"
      ]
    },
    {
      "cell_type": "markdown",
      "id": "40d52178",
      "metadata": {
        "id": "40d52178"
      },
      "source": [
        "#### to create a sample with 5000 examples randomly selected"
      ]
    },
    {
      "cell_type": "code",
      "execution_count": null,
      "id": "0d30005c",
      "metadata": {
        "id": "0d30005c"
      },
      "outputs": [],
      "source": [
        "sample = np.random.randint(70000, size=5000)"
      ]
    },
    {
      "cell_type": "code",
      "execution_count": null,
      "id": "af7e7a43",
      "metadata": {
        "id": "af7e7a43",
        "outputId": "4ebd33b5-58c9-4bbd-e80f-8a4a239f432e",
        "colab": {
          "base_uri": "https://localhost:8080/"
        }
      },
      "outputs": [
        {
          "output_type": "execute_result",
          "data": {
            "text/plain": [
              "array([52577, 19621, 67789, ..., 56367, 31224,  7166])"
            ]
          },
          "metadata": {},
          "execution_count": 5
        }
      ],
      "source": [
        "sample"
      ]
    },
    {
      "cell_type": "code",
      "execution_count": null,
      "id": "e0948775",
      "metadata": {
        "id": "e0948775",
        "outputId": "e690f629-3ecd-4e4b-bd32-4631f8ba620f"
      },
      "outputs": [
        {
          "name": "stdout",
          "output_type": "stream",
          "text": [
            "(5000, 784)\n",
            "(5000,)\n"
          ]
        }
      ],
      "source": [
        "data = mnist.data.values[sample]\n",
        "target = mnist.target.values[sample]\n",
        "print(data.shape)\n",
        "print(target.shape)"
      ]
    },
    {
      "cell_type": "markdown",
      "id": "dfad49d8",
      "metadata": {
        "id": "dfad49d8"
      },
      "source": [
        "#### Data spliting "
      ]
    },
    {
      "cell_type": "code",
      "execution_count": null,
      "id": "278faf49",
      "metadata": {
        "id": "278faf49",
        "outputId": "505cd300-0484-474b-a0cd-6e67f87f4388"
      },
      "outputs": [
        {
          "name": "stdout",
          "output_type": "stream",
          "text": [
            "(1000, 784)\n",
            "(1000,)\n"
          ]
        }
      ],
      "source": [
        "from sklearn.model_selection import train_test_split\n",
        "x_train, x_test, y_train, y_test = train_test_split(data, target, train_size=0.8)\n",
        "print(x_test.shape)\n",
        "print(y_test.shape)"
      ]
    },
    {
      "cell_type": "markdown",
      "id": "bfa841a6",
      "metadata": {
        "id": "bfa841a6"
      },
      "source": [
        "### Hors ligne importation"
      ]
    },
    {
      "cell_type": "code",
      "execution_count": null,
      "id": "0e53ee1c",
      "metadata": {
        "id": "0e53ee1c",
        "outputId": "88d35d99-0075-4a8f-97cd-f7dd5d9688cf"
      },
      "outputs": [
        {
          "name": "stdout",
          "output_type": "stream",
          "text": [
            "(60000, 785)\n",
            "(10000, 785)\n"
          ]
        }
      ],
      "source": [
        "data_train=pd.read_csv('MNIST_train.csv')\n",
        "data_test=pd.read_csv('MNIST_test.csv')\n",
        "print(data_train.shape)\n",
        "print(data_test.shape)"
      ]
    },
    {
      "cell_type": "code",
      "execution_count": null,
      "id": "b29c8a3b",
      "metadata": {
        "id": "b29c8a3b",
        "outputId": "8df80e62-a22e-4319-d82f-ad8505a70de1"
      },
      "outputs": [
        {
          "data": {
            "text/html": [
              "<div>\n",
              "<style scoped>\n",
              "    .dataframe tbody tr th:only-of-type {\n",
              "        vertical-align: middle;\n",
              "    }\n",
              "\n",
              "    .dataframe tbody tr th {\n",
              "        vertical-align: top;\n",
              "    }\n",
              "\n",
              "    .dataframe thead th {\n",
              "        text-align: right;\n",
              "    }\n",
              "</style>\n",
              "<table border=\"1\" class=\"dataframe\">\n",
              "  <thead>\n",
              "    <tr style=\"text-align: right;\">\n",
              "      <th></th>\n",
              "      <th>label</th>\n",
              "      <th>1x1</th>\n",
              "      <th>1x2</th>\n",
              "      <th>1x3</th>\n",
              "      <th>1x4</th>\n",
              "      <th>1x5</th>\n",
              "      <th>1x6</th>\n",
              "      <th>1x7</th>\n",
              "      <th>1x8</th>\n",
              "      <th>1x9</th>\n",
              "      <th>...</th>\n",
              "      <th>28x19</th>\n",
              "      <th>28x20</th>\n",
              "      <th>28x21</th>\n",
              "      <th>28x22</th>\n",
              "      <th>28x23</th>\n",
              "      <th>28x24</th>\n",
              "      <th>28x25</th>\n",
              "      <th>28x26</th>\n",
              "      <th>28x27</th>\n",
              "      <th>28x28</th>\n",
              "    </tr>\n",
              "  </thead>\n",
              "  <tbody>\n",
              "    <tr>\n",
              "      <th>0</th>\n",
              "      <td>5</td>\n",
              "      <td>0</td>\n",
              "      <td>0</td>\n",
              "      <td>0</td>\n",
              "      <td>0</td>\n",
              "      <td>0</td>\n",
              "      <td>0</td>\n",
              "      <td>0</td>\n",
              "      <td>0</td>\n",
              "      <td>0</td>\n",
              "      <td>...</td>\n",
              "      <td>0</td>\n",
              "      <td>0</td>\n",
              "      <td>0</td>\n",
              "      <td>0</td>\n",
              "      <td>0</td>\n",
              "      <td>0</td>\n",
              "      <td>0</td>\n",
              "      <td>0</td>\n",
              "      <td>0</td>\n",
              "      <td>0</td>\n",
              "    </tr>\n",
              "    <tr>\n",
              "      <th>1</th>\n",
              "      <td>0</td>\n",
              "      <td>0</td>\n",
              "      <td>0</td>\n",
              "      <td>0</td>\n",
              "      <td>0</td>\n",
              "      <td>0</td>\n",
              "      <td>0</td>\n",
              "      <td>0</td>\n",
              "      <td>0</td>\n",
              "      <td>0</td>\n",
              "      <td>...</td>\n",
              "      <td>0</td>\n",
              "      <td>0</td>\n",
              "      <td>0</td>\n",
              "      <td>0</td>\n",
              "      <td>0</td>\n",
              "      <td>0</td>\n",
              "      <td>0</td>\n",
              "      <td>0</td>\n",
              "      <td>0</td>\n",
              "      <td>0</td>\n",
              "    </tr>\n",
              "    <tr>\n",
              "      <th>2</th>\n",
              "      <td>4</td>\n",
              "      <td>0</td>\n",
              "      <td>0</td>\n",
              "      <td>0</td>\n",
              "      <td>0</td>\n",
              "      <td>0</td>\n",
              "      <td>0</td>\n",
              "      <td>0</td>\n",
              "      <td>0</td>\n",
              "      <td>0</td>\n",
              "      <td>...</td>\n",
              "      <td>0</td>\n",
              "      <td>0</td>\n",
              "      <td>0</td>\n",
              "      <td>0</td>\n",
              "      <td>0</td>\n",
              "      <td>0</td>\n",
              "      <td>0</td>\n",
              "      <td>0</td>\n",
              "      <td>0</td>\n",
              "      <td>0</td>\n",
              "    </tr>\n",
              "    <tr>\n",
              "      <th>3</th>\n",
              "      <td>1</td>\n",
              "      <td>0</td>\n",
              "      <td>0</td>\n",
              "      <td>0</td>\n",
              "      <td>0</td>\n",
              "      <td>0</td>\n",
              "      <td>0</td>\n",
              "      <td>0</td>\n",
              "      <td>0</td>\n",
              "      <td>0</td>\n",
              "      <td>...</td>\n",
              "      <td>0</td>\n",
              "      <td>0</td>\n",
              "      <td>0</td>\n",
              "      <td>0</td>\n",
              "      <td>0</td>\n",
              "      <td>0</td>\n",
              "      <td>0</td>\n",
              "      <td>0</td>\n",
              "      <td>0</td>\n",
              "      <td>0</td>\n",
              "    </tr>\n",
              "    <tr>\n",
              "      <th>4</th>\n",
              "      <td>9</td>\n",
              "      <td>0</td>\n",
              "      <td>0</td>\n",
              "      <td>0</td>\n",
              "      <td>0</td>\n",
              "      <td>0</td>\n",
              "      <td>0</td>\n",
              "      <td>0</td>\n",
              "      <td>0</td>\n",
              "      <td>0</td>\n",
              "      <td>...</td>\n",
              "      <td>0</td>\n",
              "      <td>0</td>\n",
              "      <td>0</td>\n",
              "      <td>0</td>\n",
              "      <td>0</td>\n",
              "      <td>0</td>\n",
              "      <td>0</td>\n",
              "      <td>0</td>\n",
              "      <td>0</td>\n",
              "      <td>0</td>\n",
              "    </tr>\n",
              "  </tbody>\n",
              "</table>\n",
              "<p>5 rows × 785 columns</p>\n",
              "</div>"
            ],
            "text/plain": [
              "   label  1x1  1x2  1x3  1x4  1x5  1x6  1x7  1x8  1x9  ...  28x19  28x20  \\\n",
              "0      5    0    0    0    0    0    0    0    0    0  ...      0      0   \n",
              "1      0    0    0    0    0    0    0    0    0    0  ...      0      0   \n",
              "2      4    0    0    0    0    0    0    0    0    0  ...      0      0   \n",
              "3      1    0    0    0    0    0    0    0    0    0  ...      0      0   \n",
              "4      9    0    0    0    0    0    0    0    0    0  ...      0      0   \n",
              "\n",
              "   28x21  28x22  28x23  28x24  28x25  28x26  28x27  28x28  \n",
              "0      0      0      0      0      0      0      0      0  \n",
              "1      0      0      0      0      0      0      0      0  \n",
              "2      0      0      0      0      0      0      0      0  \n",
              "3      0      0      0      0      0      0      0      0  \n",
              "4      0      0      0      0      0      0      0      0  \n",
              "\n",
              "[5 rows x 785 columns]"
            ]
          },
          "execution_count": 13,
          "metadata": {},
          "output_type": "execute_result"
        }
      ],
      "source": [
        "data_train.head()"
      ]
    },
    {
      "cell_type": "markdown",
      "id": "424858e3",
      "metadata": {
        "id": "424858e3"
      },
      "source": [
        "#### to create a sample with 4000 and 1000 examples randomly selected"
      ]
    },
    {
      "cell_type": "code",
      "execution_count": null,
      "id": "5bbc3811",
      "metadata": {
        "id": "5bbc3811"
      },
      "outputs": [],
      "source": [
        "sample_train = np.random.randint(60000, size=4000)\n",
        "sample_test = np.random.randint(10000, size=1000)"
      ]
    },
    {
      "cell_type": "code",
      "execution_count": null,
      "id": "45b0c329",
      "metadata": {
        "id": "45b0c329",
        "outputId": "d96117fd-9208-431c-d6e8-adbd83bf599e"
      },
      "outputs": [
        {
          "name": "stdout",
          "output_type": "stream",
          "text": [
            "(4000, 785)\n",
            "(1000, 785)\n"
          ]
        }
      ],
      "source": [
        "data_train_sample=data_train.values[sample_train]\n",
        "data_test_sample=data_test.values[sample_test]\n",
        "print(data_train_sample.shape)\n",
        "print(data_test_sample.shape)"
      ]
    },
    {
      "cell_type": "markdown",
      "id": "46d95ce9",
      "metadata": {
        "id": "46d95ce9"
      },
      "source": [
        "### data spliting"
      ]
    },
    {
      "cell_type": "code",
      "execution_count": null,
      "id": "ec13aa43",
      "metadata": {
        "id": "ec13aa43",
        "outputId": "84bdd40c-b6ad-498b-da2a-c62dd8aa72a2"
      },
      "outputs": [
        {
          "name": "stdout",
          "output_type": "stream",
          "text": [
            "(4000, 784)\n",
            "(4000, 1)\n"
          ]
        }
      ],
      "source": [
        "x_train=data_train_sample[:,1:785]\n",
        "y_train=data_train_sample[:,0:1]\n",
        "print(x_train.shape)\n",
        "print(y_train.shape)"
      ]
    },
    {
      "cell_type": "code",
      "execution_count": null,
      "id": "8577132e",
      "metadata": {
        "id": "8577132e",
        "outputId": "84bb1b6c-bc63-4a05-9ec2-b39da2a1f6f6"
      },
      "outputs": [
        {
          "name": "stdout",
          "output_type": "stream",
          "text": [
            "(1000, 784)\n",
            "(1000, 1)\n"
          ]
        }
      ],
      "source": [
        "x_test=data_test_sample[:,1:785]\n",
        "y_test=data_test_sample[:,0:1]\n",
        "print(x_test.shape)\n",
        "print(y_test.shape)"
      ]
    },
    {
      "cell_type": "markdown",
      "id": "08123620",
      "metadata": {
        "id": "08123620"
      },
      "source": [
        "### Data Normalisation"
      ]
    },
    {
      "cell_type": "code",
      "execution_count": null,
      "id": "14daa0c7",
      "metadata": {
        "id": "14daa0c7"
      },
      "outputs": [],
      "source": [
        "from sklearn.preprocessing import MinMaxScaler "
      ]
    },
    {
      "cell_type": "code",
      "execution_count": null,
      "id": "eeec19f2",
      "metadata": {
        "id": "eeec19f2"
      },
      "outputs": [],
      "source": [
        "scaller=MinMaxScaler()\n",
        "scaller.fit(x_train)\n",
        "x_train=scaller.transform(x_train)\n",
        "scaller.fit(x_test)\n",
        "x_test=scaller.transform(x_test)"
      ]
    },
    {
      "cell_type": "code",
      "execution_count": null,
      "id": "45224007",
      "metadata": {
        "id": "45224007",
        "outputId": "b39aa9d5-8bd6-4c72-84df-38735a280eb6"
      },
      "outputs": [
        {
          "data": {
            "text/plain": [
              "array([[0., 0., 0., ..., 0., 0., 0.],\n",
              "       [0., 0., 0., ..., 0., 0., 0.],\n",
              "       [0., 0., 0., ..., 0., 0., 0.],\n",
              "       ...,\n",
              "       [0., 0., 0., ..., 0., 0., 0.],\n",
              "       [0., 0., 0., ..., 0., 0., 0.],\n",
              "       [0., 0., 0., ..., 0., 0., 0.]])"
            ]
          },
          "execution_count": 20,
          "metadata": {},
          "output_type": "execute_result"
        }
      ],
      "source": [
        "x_test"
      ]
    },
    {
      "cell_type": "markdown",
      "id": "13dc501f",
      "metadata": {
        "id": "13dc501f"
      },
      "source": [
        "### model training and score"
      ]
    },
    {
      "cell_type": "code",
      "execution_count": null,
      "id": "fe21badf",
      "metadata": {
        "id": "fe21badf",
        "outputId": "dd1a7b00-4d86-4d00-8bd0-e9fff371d002"
      },
      "outputs": [
        {
          "data": {
            "text/plain": [
              "KNeighborsClassifier(n_neighbors=3)"
            ]
          },
          "execution_count": 21,
          "metadata": {},
          "output_type": "execute_result"
        }
      ],
      "source": [
        "from sklearn.neighbors import KNeighborsClassifier\n",
        "knn = KNeighborsClassifier(n_neighbors=3)\n",
        "knn.fit(x_train, y_train.ravel())"
      ]
    },
    {
      "cell_type": "code",
      "execution_count": null,
      "id": "5d858903",
      "metadata": {
        "id": "5d858903",
        "outputId": "81e2053a-1157-4e86-f647-e40a52ba883c"
      },
      "outputs": [
        {
          "name": "stdout",
          "output_type": "stream",
          "text": [
            "0.934\n"
          ]
        }
      ],
      "source": [
        "print(knn.score(x_test,y_test.ravel()))"
      ]
    },
    {
      "cell_type": "markdown",
      "id": "b3841cae",
      "metadata": {
        "id": "b3841cae"
      },
      "source": [
        "#### la selection de l'hyper parametre k :(using test set => probleme de generalisation ??)"
      ]
    },
    {
      "cell_type": "code",
      "execution_count": null,
      "id": "37391c1d",
      "metadata": {
        "id": "37391c1d",
        "outputId": "a5e8010f-1103-402a-b33a-53d73059ef78"
      },
      "outputs": [
        {
          "data": {
            "image/png": "[encoded data removed]",
            "text/plain": [
              "<Figure size 1440x576 with 1 Axes>"
            ]
          },
          "metadata": {
            "needs_background": "light"
          },
          "output_type": "display_data"
        }
      ],
      "source": [
        "errors = []\n",
        "for k in range(2,10):\n",
        "    knn = KNeighborsClassifier(k)\n",
        "    errors.append(100*(1-knn.fit(x_train, y_train.ravel()).score(x_test, y_test.ravel())))\n",
        "plt.figure(figsize=(20,8))\n",
        "plt.plot(range(2,10),errors, 'o-') # 'o-' pour l'affichage des k sur le graphe\n",
        "plt.show()"
      ]
    },
    {
      "cell_type": "code",
      "execution_count": null,
      "id": "8ef5f14c",
      "metadata": {
        "id": "8ef5f14c",
        "outputId": "a49f51b4-cbbb-4ac8-f3a7-2f7299f1dcbb"
      },
      "outputs": [
        {
          "name": "stdout",
          "output_type": "stream",
          "text": [
            "The minimum value is: 6.399999999999995\n",
            "The k value is: 4\n"
          ]
        }
      ],
      "source": [
        "minimum = errors[0]\n",
        "index=0\n",
        "for i in range (0,len(errors)):\n",
        "    if errors[i] < minimum:\n",
        "        minimum = errors[i]\n",
        "        index=i\n",
        "print(f\"The minimum value is: {minimum}\")\n",
        "print(f\"The k value is: {index+2}\")"
      ]
    },
    {
      "cell_type": "markdown",
      "id": "a43f3c4e",
      "metadata": {
        "id": "a43f3c4e"
      },
      "source": [
        "### Prediction"
      ]
    },
    {
      "cell_type": "code",
      "execution_count": null,
      "id": "d8425495",
      "metadata": {
        "id": "d8425495",
        "outputId": "c7a5b58c-178c-4360-b633-27b97917c6e8"
      },
      "outputs": [
        {
          "data": {
            "text/plain": [
              "KNeighborsClassifier(n_neighbors=4)"
            ]
          },
          "execution_count": 25,
          "metadata": {},
          "output_type": "execute_result"
        }
      ],
      "source": [
        "knn = KNeighborsClassifier(4)\n",
        "knn.fit(x_train, y_train.ravel())"
      ]
    },
    {
      "cell_type": "code",
      "execution_count": null,
      "id": "b93f1921",
      "metadata": {
        "id": "b93f1921",
        "outputId": "2b2b6cb9-7811-485a-fbc3-3a635509219e"
      },
      "outputs": [
        {
          "data": {
            "text/plain": [
              "0.936"
            ]
          },
          "execution_count": 27,
          "metadata": {},
          "output_type": "execute_result"
        }
      ],
      "source": [
        "knn.score(x_test,y_test)"
      ]
    },
    {
      "cell_type": "code",
      "execution_count": null,
      "id": "6bcd9dce",
      "metadata": {
        "id": "6bcd9dce"
      },
      "outputs": [],
      "source": [
        "predicted = knn.predict(x_test)"
      ]
    },
    {
      "cell_type": "code",
      "execution_count": null,
      "id": "09dbd2da",
      "metadata": {
        "id": "09dbd2da",
        "outputId": "0552002b-eeb0-403f-811b-bd17fc452b3e"
      },
      "outputs": [
        {
          "data": {
            "text/plain": [
              "(1000,)"
            ]
          },
          "execution_count": 29,
          "metadata": {},
          "output_type": "execute_result"
        }
      ],
      "source": [
        "predicted.shape"
      ]
    },
    {
      "cell_type": "code",
      "execution_count": null,
      "id": "ef92c98d",
      "metadata": {
        "id": "ef92c98d",
        "outputId": "05e109b3-2400-425a-8543-4a32ab2011a9"
      },
      "outputs": [
        {
          "data": {
            "text/plain": [
              "array([0, 6, 5, 8, 1], dtype=int64)"
            ]
          },
          "execution_count": 30,
          "metadata": {},
          "output_type": "execute_result"
        }
      ],
      "source": [
        "predicted[0:5]"
      ]
    },
    {
      "cell_type": "markdown",
      "id": "cad69e74",
      "metadata": {
        "id": "cad69e74"
      },
      "source": [
        "#### On redimensionne les données de test sous forme d'une matrice : 784=28*28"
      ]
    },
    {
      "cell_type": "code",
      "execution_count": null,
      "id": "08f3c8cc",
      "metadata": {
        "id": "08f3c8cc",
        "outputId": "eee209b3-02e6-45fc-9410-cce63400ec73"
      },
      "outputs": [
        {
          "data": {
            "text/plain": [
              "(1000, 28, 28)"
            ]
          },
          "execution_count": 31,
          "metadata": {},
          "output_type": "execute_result"
        }
      ],
      "source": [
        "images = x_test.reshape((-1,28, 28))\n",
        "images.shape"
      ]
    },
    {
      "cell_type": "markdown",
      "id": "00e49770",
      "metadata": {
        "id": "00e49770"
      },
      "source": [
        "#### On selectionne un echantillon de 12 images au hasard parmi les 1000"
      ]
    },
    {
      "cell_type": "code",
      "execution_count": null,
      "id": "90768b3e",
      "metadata": {
        "id": "90768b3e",
        "outputId": "4a495e99-0c42-4749-aa35-36034b7c21dc"
      },
      "outputs": [
        {
          "data": {
            "text/plain": [
              "array([178, 467, 812, 905, 839, 908, 213, 251, 161, 658, 514, 666])"
            ]
          },
          "execution_count": 32,
          "metadata": {},
          "output_type": "execute_result"
        }
      ],
      "source": [
        "select = np.random.randint(images.shape[0], size=12)\n",
        "select"
      ]
    },
    {
      "cell_type": "markdown",
      "id": "d865c9e7",
      "metadata": {
        "id": "d865c9e7"
      },
      "source": [
        "#### On affiche les images avec les prédictions associées"
      ]
    },
    {
      "cell_type": "code",
      "execution_count": null,
      "id": "c45bb3a4",
      "metadata": {
        "id": "c45bb3a4",
        "outputId": "93a9ea3c-db34-40f6-c3f2-890cae0aaec6"
      },
      "outputs": [
        {
          "data": {
            "image/png": "[encoded data removed]",
            "text/plain": [
              "<Figure size 432x288 with 12 Axes>"
            ]
          },
          "metadata": {
            "needs_background": "light"
          },
          "output_type": "display_data"
        }
      ],
      "source": [
        "fig,ax = plt.subplots(3,4)\n",
        "for index, value in enumerate(select):\n",
        "    plt.subplot(3,4,index+1)\n",
        "    plt.axis('off')\n",
        "    plt.imshow(images[value],cmap=plt.cm.gray_r) #interpolation='nearest'\n",
        "    plt.title('Predicted: {}'.format(predicted[value]) )\n",
        "plt.show()"
      ]
    },
    {
      "cell_type": "markdown",
      "id": "346ecd3f",
      "metadata": {
        "id": "346ecd3f"
      },
      "source": [
        "### Cross Validation: the correct way to select the k using only the trainset"
      ]
    },
    {
      "cell_type": "code",
      "execution_count": null,
      "id": "bcc2ad4d",
      "metadata": {
        "id": "bcc2ad4d"
      },
      "outputs": [],
      "source": [
        "from sklearn.model_selection import cross_val_score"
      ]
    },
    {
      "cell_type": "code",
      "execution_count": null,
      "id": "c574504c",
      "metadata": {
        "id": "c574504c",
        "outputId": "dc7ea2a9-aea2-4b12-f5ae-e19eac41a07a"
      },
      "outputs": [
        {
          "data": {
            "text/plain": [
              "array([0.915  , 0.9075 , 0.9425 , 0.9425 , 0.92125])"
            ]
          },
          "execution_count": 35,
          "metadata": {},
          "output_type": "execute_result"
        }
      ],
      "source": [
        "KNN_model=KNeighborsClassifier(n_neighbors=1)\n",
        "cross_val_score(KNN_model,x_train,y_train.ravel(),cv=5,scoring='accuracy')"
      ]
    },
    {
      "cell_type": "code",
      "execution_count": null,
      "id": "63d6ba84",
      "metadata": {
        "id": "63d6ba84",
        "outputId": "fc8959a9-7f2f-4cbe-c760-35996da1f2a9"
      },
      "outputs": [
        {
          "data": {
            "text/plain": [
              "array([0.9025 , 0.8975 , 0.91875, 0.915  , 0.90875])"
            ]
          },
          "execution_count": 36,
          "metadata": {},
          "output_type": "execute_result"
        }
      ],
      "source": [
        "KNN_model=KNeighborsClassifier(n_neighbors=2)\n",
        "cross_val_score(KNN_model,x_train,y_train.ravel(),cv=5,scoring='accuracy')"
      ]
    },
    {
      "cell_type": "code",
      "execution_count": null,
      "id": "60ba51af",
      "metadata": {
        "id": "60ba51af",
        "outputId": "7dd2864f-ab70-47c6-99ca-4ea51209b9aa"
      },
      "outputs": [
        {
          "data": {
            "text/plain": [
              "array([0.9275 , 0.90875, 0.93875, 0.9325 , 0.92   ])"
            ]
          },
          "execution_count": 37,
          "metadata": {},
          "output_type": "execute_result"
        }
      ],
      "source": [
        "KNN_model=KNeighborsClassifier(n_neighbors=3)\n",
        "cross_val_score(KNN_model,x_train,y_train.ravel(),cv=5,scoring='accuracy')"
      ]
    },
    {
      "cell_type": "markdown",
      "id": "29d99019",
      "metadata": {
        "id": "29d99019"
      },
      "source": [
        "### Curve Validation : to simplify cross-valudation"
      ]
    },
    {
      "cell_type": "code",
      "execution_count": null,
      "id": "8720638c",
      "metadata": {
        "id": "8720638c"
      },
      "outputs": [],
      "source": [
        "from sklearn.model_selection import validation_curve"
      ]
    },
    {
      "cell_type": "code",
      "execution_count": null,
      "id": "cfcd3411",
      "metadata": {
        "id": "cfcd3411",
        "outputId": "35157659-0aab-439f-83c8-61b50ad2ae7c"
      },
      "outputs": [
        {
          "data": {
            "text/plain": [
              "array([ 2,  3,  4,  5,  6,  7,  8,  9, 10])"
            ]
          },
          "execution_count": 40,
          "metadata": {},
          "output_type": "execute_result"
        }
      ],
      "source": [
        "k=np.arange(2,11)\n",
        "k"
      ]
    },
    {
      "cell_type": "code",
      "execution_count": null,
      "id": "534d49b9",
      "metadata": {
        "id": "534d49b9",
        "outputId": "3a23d198-982e-4752-f437-0e789fef6668"
      },
      "outputs": [
        {
          "name": "stdout",
          "output_type": "stream",
          "text": [
            "(4000, 784)\n",
            "(4000, 1)\n"
          ]
        }
      ],
      "source": [
        "print(x_train.shape)\n",
        "print(y_train.shape)"
      ]
    },
    {
      "cell_type": "code",
      "execution_count": null,
      "id": "bc6c08de",
      "metadata": {
        "id": "bc6c08de"
      },
      "outputs": [],
      "source": [
        "KNN_model=KNeighborsClassifier()\n",
        "train_score,val_score=validation_curve(KNN_model,x_train,y_train.ravel(),param_name='n_neighbors',param_range=k,cv=5,scoring='accuracy')"
      ]
    },
    {
      "cell_type": "code",
      "execution_count": null,
      "id": "c6e34213",
      "metadata": {
        "id": "c6e34213",
        "outputId": "18bd3dac-0761-4890-96c7-9947b73f5661"
      },
      "outputs": [
        {
          "data": {
            "text/plain": [
              "array([0.9085 , 0.9255 , 0.92125, 0.92125, 0.921  , 0.92075, 0.917  ,\n",
              "       0.9165 , 0.91275])"
            ]
          },
          "execution_count": 43,
          "metadata": {},
          "output_type": "execute_result"
        }
      ],
      "source": [
        "val_score.mean(axis=1)"
      ]
    },
    {
      "cell_type": "code",
      "execution_count": null,
      "id": "f4fb2810",
      "metadata": {
        "id": "f4fb2810",
        "outputId": "3cd448fe-23e7-4c8a-b1b6-01025c7e2e83"
      },
      "outputs": [
        {
          "data": {
            "text/plain": [
              "1"
            ]
          },
          "execution_count": 44,
          "metadata": {},
          "output_type": "execute_result"
        }
      ],
      "source": [
        "val_score.mean(axis=1).argmax()"
      ]
    },
    {
      "cell_type": "code",
      "execution_count": null,
      "id": "a58a0258",
      "metadata": {
        "id": "a58a0258",
        "outputId": "c88b4062-cef5-4edd-c7a4-66420be4322d"
      },
      "outputs": [
        {
          "data": {
            "text/plain": [
              "array([0.95825  , 0.9628125, 0.9508125, 0.95     , 0.9414375, 0.940375 ,\n",
              "       0.936375 , 0.933625 , 0.93075  ])"
            ]
          },
          "execution_count": 45,
          "metadata": {},
          "output_type": "execute_result"
        }
      ],
      "source": [
        "train_score.mean(axis=1)"
      ]
    },
    {
      "cell_type": "code",
      "execution_count": null,
      "id": "dc520a0d",
      "metadata": {
        "id": "dc520a0d",
        "outputId": "fed087cd-09d1-4d76-ef9b-4b60ac3b677a"
      },
      "outputs": [
        {
          "data": {
            "text/plain": [
              "1"
            ]
          },
          "execution_count": 46,
          "metadata": {},
          "output_type": "execute_result"
        }
      ],
      "source": [
        "train_score.mean(axis=1).argmax()"
      ]
    },
    {
      "cell_type": "markdown",
      "id": "fbafe7cb",
      "metadata": {
        "id": "fbafe7cb"
      },
      "source": [
        "### Drawing the graph of accuracy"
      ]
    },
    {
      "cell_type": "markdown",
      "id": "5c590893",
      "metadata": {
        "id": "5c590893"
      },
      "source": [
        "#### we can say that we get the best scores  when k=3"
      ]
    },
    {
      "cell_type": "code",
      "execution_count": null,
      "id": "ff598894",
      "metadata": {
        "id": "ff598894",
        "outputId": "5899c76e-09bb-4123-9fda-0e4f21a68730"
      },
      "outputs": [
        {
          "data": {
            "text/plain": [
              "<matplotlib.legend.Legend at 0x2e9e72f1c0>"
            ]
          },
          "execution_count": 49,
          "metadata": {},
          "output_type": "execute_result"
        },
        {
          "data": {
            "image/png": "[encoded data removed]",
            "text/plain": [
              "<Figure size 1440x576 with 1 Axes>"
            ]
          },
          "metadata": {
            "needs_background": "light"
          },
          "output_type": "display_data"
        }
      ],
      "source": [
        "plt.figure(figsize=(20,8))\n",
        "plt.plot(range(2,11),val_score.mean(axis=1),'o-',label='validation')\n",
        "plt.plot(range(2,11),train_score.mean(axis=1),'o-',label='train')\n",
        "plt.xlabel('n_neighbors')\n",
        "plt.ylabel('score')\n",
        "plt.legend()"
      ]
    },
    {
      "cell_type": "markdown",
      "id": "80c32a5b",
      "metadata": {
        "id": "80c32a5b"
      },
      "source": [
        "### GridSearchCV : to find best parameters"
      ]
    },
    {
      "cell_type": "code",
      "execution_count": null,
      "id": "fb3499f9",
      "metadata": {
        "id": "fb3499f9"
      },
      "outputs": [],
      "source": [
        "from sklearn.model_selection import GridSearchCV"
      ]
    },
    {
      "cell_type": "code",
      "execution_count": null,
      "id": "fdf5f8be",
      "metadata": {
        "id": "fdf5f8be",
        "outputId": "402ea7cb-d405-4086-bd70-c397264d993f"
      },
      "outputs": [
        {
          "data": {
            "text/plain": [
              "GridSearchCV(cv=5, estimator=KNeighborsClassifier(),\n",
              "             param_grid={'metric': ['euclidean', 'manhattan'],\n",
              "                         'n_neighbors': array([ 2,  3,  4,  5,  6,  7,  8,  9, 10])})"
            ]
          },
          "execution_count": 51,
          "metadata": {},
          "output_type": "execute_result"
        }
      ],
      "source": [
        "param_grid={'n_neighbors': np.arange(2,11),'metric':['euclidean','manhattan']}\n",
        "grid=GridSearchCV(KNN_model,param_grid,cv=5)\n",
        "grid.fit(x_train,y_train.ravel())"
      ]
    },
    {
      "cell_type": "code",
      "execution_count": null,
      "id": "83f81347",
      "metadata": {
        "id": "83f81347",
        "outputId": "f51986a2-d750-42b5-bca6-987de707743e"
      },
      "outputs": [
        {
          "data": {
            "text/plain": [
              "0.9255000000000001"
            ]
          },
          "execution_count": 52,
          "metadata": {},
          "output_type": "execute_result"
        }
      ],
      "source": [
        "grid.best_score_"
      ]
    },
    {
      "cell_type": "code",
      "execution_count": null,
      "id": "1d7a028e",
      "metadata": {
        "id": "1d7a028e",
        "outputId": "6b4133bb-4af7-4a94-9d5d-f7a2371bcbc2"
      },
      "outputs": [
        {
          "data": {
            "text/plain": [
              "{'metric': 'euclidean', 'n_neighbors': 3}"
            ]
          },
          "execution_count": 53,
          "metadata": {},
          "output_type": "execute_result"
        }
      ],
      "source": [
        "grid.best_params_"
      ]
    },
    {
      "cell_type": "code",
      "execution_count": null,
      "id": "47ec3598",
      "metadata": {
        "id": "47ec3598"
      },
      "outputs": [],
      "source": [
        "KNNmodel_best=grid.best_estimator_"
      ]
    },
    {
      "cell_type": "code",
      "execution_count": null,
      "id": "b41c44fb",
      "metadata": {
        "id": "b41c44fb",
        "outputId": "fbe0ed13-905a-404f-9d9f-f1e4d25c8b40"
      },
      "outputs": [
        {
          "data": {
            "text/plain": [
              "0.934"
            ]
          },
          "execution_count": 55,
          "metadata": {},
          "output_type": "execute_result"
        }
      ],
      "source": [
        "KNNmodel_best.score(x_test,y_test)"
      ]
    },
    {
      "cell_type": "markdown",
      "id": "4be9179f",
      "metadata": {
        "id": "4be9179f"
      },
      "source": [
        "### Matrice de confusion"
      ]
    },
    {
      "cell_type": "code",
      "execution_count": null,
      "id": "27980106",
      "metadata": {
        "id": "27980106"
      },
      "outputs": [],
      "source": [
        "from sklearn.metrics import confusion_matrix\n",
        "import seaborn as sns"
      ]
    },
    {
      "cell_type": "code",
      "execution_count": null,
      "id": "7ff5b864",
      "metadata": {
        "id": "7ff5b864"
      },
      "outputs": [],
      "source": [
        "matrice_confusion=confusion_matrix(y_test,KNNmodel_best.predict(x_test))"
      ]
    },
    {
      "cell_type": "code",
      "execution_count": null,
      "id": "70f7ec3a",
      "metadata": {
        "id": "70f7ec3a",
        "outputId": "44f4ae5c-7c23-4687-f5a8-97cce7315197"
      },
      "outputs": [
        {
          "data": {
            "image/png": "[encoded data removed]",
            "text/plain": [
              "<Figure size 432x288 with 1 Axes>"
            ]
          },
          "metadata": {
            "needs_background": "light"
          },
          "output_type": "display_data"
        }
      ],
      "source": [
        "sns.heatmap(matrice_confusion,annot=True, fmt='g', cbar=False, cmap='BuPu')\n",
        "#plt.imshow(matrice_confusion)\n",
        "plt.xlabel('Predicted Values')\n",
        "plt.ylabel('Actual Values')\n",
        "plt.title('matrice de confusion')\n",
        "plt.show()"
      ]
    },
    {
      "cell_type": "markdown",
      "id": "67c6c916",
      "metadata": {
        "id": "67c6c916"
      },
      "source": [
        "#### Now we test the final model using test data: this test generally used to compare KNN with another model"
      ]
    },
    {
      "cell_type": "code",
      "execution_count": null,
      "id": "54689e2a",
      "metadata": {
        "id": "54689e2a",
        "outputId": "eaa023b6-1b49-41ed-f158-c9b1136ab3ec"
      },
      "outputs": [
        {
          "data": {
            "text/plain": [
              "0.934"
            ]
          },
          "execution_count": 59,
          "metadata": {},
          "output_type": "execute_result"
        }
      ],
      "source": [
        "KNN_model=KNeighborsClassifier(n_neighbors=3)\n",
        "KNN_model.fit(x_train,y_train.ravel())\n",
        "KNN_model.score(x_test,y_test.ravel())"
      ]
    },
    {
      "cell_type": "markdown",
      "id": "fc27aef7",
      "metadata": {
        "id": "fc27aef7"
      },
      "source": [
        "#### brobleme biais-variance !!!\n",
        "#### using trainset k=3 seems to be the best KNN but when we use a new dataset k=4 seems to be the best one"
      ]
    },
    {
      "cell_type": "code",
      "execution_count": null,
      "id": "a902b645",
      "metadata": {
        "id": "a902b645",
        "outputId": "5ea36350-89e1-4359-a92b-8b59b95fe48f"
      },
      "outputs": [
        {
          "data": {
            "image/png": "[encoded data removed]",
            "text/plain": [
              "<Figure size 1440x576 with 1 Axes>"
            ]
          },
          "metadata": {
            "needs_background": "light"
          },
          "output_type": "display_data"
        }
      ],
      "source": [
        "scores = []\n",
        "for k in range(2,10):\n",
        "    knn = KNeighborsClassifier(k)\n",
        "    scores.append(100*knn.fit(x_train, y_train.ravel()).score(x_test, y_test.ravel()))\n",
        "plt.figure(figsize=(20,8))\n",
        "plt.plot(range(2,10), scores, 'o-')\n",
        "plt.show()"
      ]
    },
    {
      "cell_type": "code",
      "execution_count": null,
      "id": "f9062e1f",
      "metadata": {
        "id": "f9062e1f"
      },
      "outputs": [],
      "source": []
    },
    {
      "cell_type": "code",
      "execution_count": null,
      "id": "06b28880",
      "metadata": {
        "id": "06b28880"
      },
      "outputs": [],
      "source": []
    }
  ],
  "metadata": {
    "kernelspec": {
      "display_name": "Python 3 (ipykernel)",
      "language": "python",
      "name": "python3"
    },
    "language_info": {
      "codemirror_mode": {
        "name": "ipython",
        "version": 3
      },
      "file_extension": ".py",
      "mimetype": "text/x-python",
      "name": "python",
      "nbconvert_exporter": "python",
      "pygments_lexer": "ipython3",
      "version": "3.9.5"
    },
    "colab": {
      "provenance": [],
      "include_colab_link": true
    }
  },
  "nbformat": 4,
  "nbformat_minor": 5
}