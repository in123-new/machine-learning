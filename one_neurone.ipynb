{
  "cells": [
    {
      "cell_type": "markdown",
      "metadata": {
        "id": "view-in-github",
        "colab_type": "text"
      },
      "source": [
        "<a href=\"https://colab.research.google.com/github/in123-new/machine-learning/blob/main/one_neurone.ipynb\" target=\"_parent\"><img src=\"https://colab.research.google.com/assets/colab-badge.svg\" alt=\"Open In Colab\"/></a>"
      ]
    },
    {
      "cell_type": "code",
      "execution_count": null,
      "id": "2499cea2",
      "metadata": {
        "id": "2499cea2"
      },
      "outputs": [],
      "source": [
        "import numpy as np\n",
        "import matplotlib.pyplot as plt\n",
        "from sklearn.datasets import make_blobs "
      ]
    },
    {
      "cell_type": "code",
      "execution_count": null,
      "id": "d12739e6",
      "metadata": {
        "id": "d12739e6",
        "outputId": "9ea81af7-3d1b-40a8-ec2b-276ccce230dc"
      },
      "outputs": [
        {
          "name": "stdout",
          "output_type": "stream",
          "text": [
            "dim de X (100, 2)\n",
            "dim de y (100, 1)\n"
          ]
        }
      ],
      "source": [
        "X,y=make_blobs(n_samples=100,n_features=2,centers=2,random_state=0)\n",
        "y=y.reshape(y.shape[0],1)\n",
        "print('dim de X', X.shape)\n",
        "print('dim de y', y.shape)\n"
      ]
    },
    {
      "cell_type": "code",
      "execution_count": null,
      "id": "913a1919",
      "metadata": {
        "id": "913a1919",
        "outputId": "7acf451e-20e8-44ca-eef8-06b00163780f"
      },
      "outputs": [
        {
          "data": {
            "text/plain": [
              "<matplotlib.collections.PathCollection at 0x9135faf370>"
            ]
          },
          "execution_count": 167,
          "metadata": {},
          "output_type": "execute_result"
        },
        {
          "data": {
            "image/png": "[encoded data removed]",
            "text/plain": [
              "<Figure size 432x288 with 1 Axes>"
            ]
          },
          "metadata": {
            "needs_background": "light"
          },
          "output_type": "display_data"
        }
      ],
      "source": [
        "plt.scatter(X[:,0],X[:,1],c=y)"
      ]
    },
    {
      "cell_type": "code",
      "execution_count": null,
      "id": "23c31272",
      "metadata": {
        "id": "23c31272"
      },
      "outputs": [],
      "source": [
        "def initialisation(X):\n",
        "    w=np.random.randn(X.shape[1],1)\n",
        "    b=np.random.randn(1)\n",
        "    return (w,b)"
      ]
    },
    {
      "cell_type": "code",
      "execution_count": null,
      "id": "a81ceafa",
      "metadata": {
        "id": "a81ceafa",
        "outputId": "083169f4-8f1c-443d-f953-f44c4afeace0"
      },
      "outputs": [
        {
          "name": "stdout",
          "output_type": "stream",
          "text": [
            "[[-0.75152087]\n",
            " [ 0.90012022]]\n",
            "[0.04526067]\n"
          ]
        }
      ],
      "source": [
        "w,b=initialisation(X)\n",
        "print(w)\n",
        "print(b)"
      ]
    },
    {
      "cell_type": "code",
      "execution_count": null,
      "id": "8cda08bf",
      "metadata": {
        "id": "8cda08bf"
      },
      "outputs": [],
      "source": [
        "def model(X,w,b): # la fonction d'activation est la fonction sigmoide\n",
        "    Z=X.dot(w)+ b\n",
        "    A=1/(1+ np.exp(-Z)) #grace au prodcasting A est le vecteur qui contient les activations pour chaque obesvation de X\n",
        "    #A=A>0\n",
        "    return A "
      ]
    },
    {
      "cell_type": "code",
      "execution_count": null,
      "id": "ee08f846",
      "metadata": {
        "id": "ee08f846",
        "outputId": "0d9a4c07-d450-4bbd-8be1-ed02a74ec4cf"
      },
      "outputs": [
        {
          "name": "stdout",
          "output_type": "stream",
          "text": [
            "[0.44446641]\n"
          ]
        }
      ],
      "source": [
        "print(model(X[1],w,b))"
      ]
    },
    {
      "cell_type": "code",
      "execution_count": null,
      "id": "4a1722cc",
      "metadata": {
        "id": "4a1722cc"
      },
      "outputs": [],
      "source": [
        "def log_loss(A,y): #la fonction cout dans le cas d'un neurone de classification binaire\n",
        "    return (1 / len(y))* np.sum(-y  * np.log(A) - (1-y) * np.log(1-A))\n",
        "    "
      ]
    },
    {
      "cell_type": "code",
      "execution_count": null,
      "id": "3b62b734",
      "metadata": {
        "id": "3b62b734"
      },
      "outputs": [],
      "source": [
        "def gradient(A,X,y):\n",
        "    dw=1/len(y)* np.dot(X.T,A-y)\n",
        "    db=1/len(y)* np.sum(A-y)\n",
        "    return (dw,db)"
      ]
    },
    {
      "cell_type": "code",
      "execution_count": null,
      "id": "708e3075",
      "metadata": {
        "id": "708e3075"
      },
      "outputs": [],
      "source": [
        "def update(dw,db,w,b,alpha):\n",
        "    w=w-alpha * dw\n",
        "    b=b-alpha * db\n",
        "    return (w,b)"
      ]
    },
    {
      "cell_type": "code",
      "execution_count": null,
      "id": "ef80d5a9",
      "metadata": {
        "id": "ef80d5a9"
      },
      "outputs": [],
      "source": [
        "def predict(X,w,b):\n",
        "    A=model(X,w,b) \n",
        "    print(A.sum()) \n",
        "    return A>=0 #tout depend de la seuil/ return un bollean indexing de A"
      ]
    },
    {
      "cell_type": "code",
      "execution_count": null,
      "id": "f13d0f5e",
      "metadata": {
        "id": "f13d0f5e"
      },
      "outputs": [],
      "source": [
        "from sklearn.metrics import accuracy_score"
      ]
    },
    {
      "cell_type": "code",
      "execution_count": null,
      "id": "2f61dc1b",
      "metadata": {
        "id": "2f61dc1b"
      },
      "outputs": [],
      "source": [
        "def artificial_neuron(X,y,alpha=0.1,iterations=1000):\n",
        "    #initialiser w et b\n",
        "    w,b=initialisation(X)\n",
        "    loss=[]\n",
        "    for i in range(iterations):\n",
        "        A=model(X,w,b)\n",
        "        one_loss=log_loss(A,y)\n",
        "        loss.append(one_loss)\n",
        "        dw,db=gradient(A,X,y)\n",
        "        w,b=update(dw,db,w,b,alpha)\n",
        "    \n",
        "    y_predicted=predict(X,w,b)\n",
        "    print(accuracy_score(y,y_predicted))\n",
        "    plt.plot(loss)\n",
        "    #print(one_loss)\n",
        "    return (w,b)\n",
        "    "
      ]
    },
    {
      "cell_type": "code",
      "execution_count": null,
      "id": "96f7d42d",
      "metadata": {
        "id": "96f7d42d"
      },
      "outputs": [],
      "source": [
        "def artificial_neuron_onligne(X,y,alpha=0.1,iterations=5000):\n",
        "    #initialiser w et b\n",
        "    w,b=initialisation(X)\n",
        "    loss=[]\n",
        "    for i in range(iterations*2):\n",
        "        for j in range(99):\n",
        "            A=model(X[j],w,b)\n",
        "            dw,db=gradient(A,X,y)\n",
        "            w,b=update(dw,db,w,b,alpha)\n",
        "    y_predicted=predict(X,w,b)\n",
        "    print(accuracy_score(y,y_predicted))\n",
        "    return (w,b)"
      ]
    },
    {
      "cell_type": "code",
      "execution_count": null,
      "id": "a80a920c",
      "metadata": {
        "id": "a80a920c",
        "outputId": "a3505a14-d6ae-4642-8079-5c58d22a261f"
      },
      "outputs": [
        {
          "name": "stderr",
          "output_type": "stream",
          "text": [
            "C:\\Users\\zaki\\AppData\\Local\\Temp/ipykernel_9132/3493805952.py:3: RuntimeWarning: overflow encountered in exp\n",
            "  A=1/(1+ np.exp(-Z)) #grace au prodcasting A est le vecteur qui contient les activations pour chaque obesvation de X\n"
          ]
        },
        {
          "name": "stdout",
          "output_type": "stream",
          "text": [
            "38.0\n",
            "0.5\n"
          ]
        }
      ],
      "source": [
        "w,b=artificial_neuron_onligne(X,y)"
      ]
    },
    {
      "cell_type": "code",
      "execution_count": null,
      "id": "09cb97f8",
      "metadata": {
        "id": "09cb97f8"
      },
      "outputs": [],
      "source": [
        "new_plant=np.array([0,1])"
      ]
    },
    {
      "cell_type": "code",
      "execution_count": null,
      "id": "d8478626",
      "metadata": {
        "id": "d8478626",
        "outputId": "9310e9c5-e598-4751-d3c5-e66eb810e575"
      },
      "outputs": [
        {
          "data": {
            "text/plain": [
              "array([[1],\n",
              "       [1],\n",
              "       [0],\n",
              "       [0],\n",
              "       [1],\n",
              "       [0],\n",
              "       [0],\n",
              "       [1],\n",
              "       [0],\n",
              "       [1],\n",
              "       [0],\n",
              "       [1],\n",
              "       [0],\n",
              "       [0],\n",
              "       [1],\n",
              "       [1],\n",
              "       [1],\n",
              "       [0],\n",
              "       [1],\n",
              "       [1],\n",
              "       [0],\n",
              "       [0],\n",
              "       [1],\n",
              "       [0],\n",
              "       [1],\n",
              "       [0],\n",
              "       [1],\n",
              "       [0],\n",
              "       [0],\n",
              "       [1],\n",
              "       [1],\n",
              "       [0],\n",
              "       [1],\n",
              "       [1],\n",
              "       [1],\n",
              "       [0],\n",
              "       [1],\n",
              "       [1],\n",
              "       [0],\n",
              "       [1],\n",
              "       [0],\n",
              "       [0],\n",
              "       [0],\n",
              "       [0],\n",
              "       [1],\n",
              "       [1],\n",
              "       [1],\n",
              "       [1],\n",
              "       [0],\n",
              "       [0],\n",
              "       [1],\n",
              "       [1],\n",
              "       [0],\n",
              "       [0],\n",
              "       [0],\n",
              "       [0],\n",
              "       [0],\n",
              "       [1],\n",
              "       [1],\n",
              "       [1],\n",
              "       [1],\n",
              "       [0],\n",
              "       [0],\n",
              "       [1],\n",
              "       [0],\n",
              "       [1],\n",
              "       [0],\n",
              "       [0],\n",
              "       [1],\n",
              "       [0],\n",
              "       [0],\n",
              "       [1],\n",
              "       [1],\n",
              "       [0],\n",
              "       [0],\n",
              "       [0],\n",
              "       [1],\n",
              "       [1],\n",
              "       [0],\n",
              "       [0],\n",
              "       [1],\n",
              "       [0],\n",
              "       [0],\n",
              "       [0],\n",
              "       [0],\n",
              "       [0],\n",
              "       [1],\n",
              "       [0],\n",
              "       [1],\n",
              "       [1],\n",
              "       [1],\n",
              "       [1],\n",
              "       [1],\n",
              "       [1],\n",
              "       [0],\n",
              "       [0],\n",
              "       [1],\n",
              "       [1],\n",
              "       [0],\n",
              "       [1]])"
            ]
          },
          "execution_count": 163,
          "metadata": {},
          "output_type": "execute_result"
        }
      ],
      "source": [
        "y"
      ]
    },
    {
      "cell_type": "code",
      "execution_count": null,
      "id": "c0be6d7b",
      "metadata": {
        "id": "c0be6d7b",
        "outputId": "57509f47-c033-413d-dddf-33f6c89d4e33"
      },
      "outputs": [
        {
          "data": {
            "text/plain": [
              "<matplotlib.collections.PathCollection at 0x9135f4ae20>"
            ]
          },
          "execution_count": 164,
          "metadata": {},
          "output_type": "execute_result"
        },
        {
          "data": {
            "image/png": "[encoded data removed]",
            "text/plain": [
              "<Figure size 432x288 with 1 Axes>"
            ]
          },
          "metadata": {
            "needs_background": "light"
          },
          "output_type": "display_data"
        }
      ],
      "source": [
        "x1=np.linspace(-1,4,100) # frontiere de decision lorsque g=0 /g est la fonction de decision g=w1x1+w2w2+b\n",
        "x2=(-w[0]*x1-b)/ w[1]\n",
        "plt.scatter(X[:,0],X[:,1],c=y)\n",
        "plt.plot(x1,x2,lw=2)\n",
        "plt.scatter(new_plant[0],new_plant[1])"
      ]
    },
    {
      "cell_type": "code",
      "execution_count": null,
      "id": "f2d799d5",
      "metadata": {
        "id": "f2d799d5",
        "outputId": "37cfe1cd-3dce-4c4a-b9e8-624d983c1394"
      },
      "outputs": [
        {
          "name": "stdout",
          "output_type": "stream",
          "text": [
            "0\n",
            "1\n",
            "2\n",
            "3\n",
            "4\n",
            "5\n",
            "6\n",
            "7\n",
            "8\n",
            "9\n",
            "10\n",
            "11\n",
            "12\n",
            "13\n",
            "14\n",
            "15\n",
            "16\n",
            "17\n",
            "18\n",
            "19\n",
            "20\n",
            "21\n",
            "22\n",
            "23\n",
            "24\n",
            "25\n",
            "26\n",
            "27\n",
            "28\n",
            "29\n",
            "30\n",
            "31\n",
            "32\n",
            "33\n",
            "34\n",
            "35\n",
            "36\n",
            "37\n",
            "38\n",
            "39\n",
            "40\n",
            "41\n",
            "42\n",
            "43\n",
            "44\n",
            "45\n",
            "46\n",
            "47\n",
            "48\n",
            "49\n",
            "50\n",
            "51\n",
            "52\n",
            "53\n",
            "54\n",
            "55\n",
            "56\n",
            "57\n",
            "58\n",
            "59\n",
            "60\n",
            "61\n",
            "62\n",
            "63\n",
            "64\n",
            "65\n",
            "66\n",
            "67\n",
            "68\n",
            "69\n",
            "70\n",
            "71\n",
            "72\n",
            "73\n",
            "74\n",
            "75\n",
            "76\n",
            "77\n",
            "78\n",
            "79\n",
            "80\n",
            "81\n",
            "82\n",
            "83\n",
            "84\n",
            "85\n",
            "86\n",
            "87\n",
            "88\n",
            "89\n",
            "90\n",
            "91\n",
            "92\n",
            "93\n",
            "94\n",
            "95\n",
            "96\n",
            "97\n",
            "98\n",
            "99\n"
          ]
        }
      ],
      "source": [
        "for i in range(100):\n",
        "    print(i)\n"
      ]
    },
    {
      "cell_type": "code",
      "execution_count": null,
      "id": "e4c7b064",
      "metadata": {
        "id": "e4c7b064"
      },
      "outputs": [],
      "source": []
    }
  ],
  "metadata": {
    "kernelspec": {
      "display_name": "Python 3 (ipykernel)",
      "language": "python",
      "name": "python3"
    },
    "language_info": {
      "codemirror_mode": {
        "name": "ipython",
        "version": 3
      },
      "file_extension": ".py",
      "mimetype": "text/x-python",
      "name": "python",
      "nbconvert_exporter": "python",
      "pygments_lexer": "ipython3",
      "version": "3.9.5"
    },
    "colab": {
      "provenance": [],
      "include_colab_link": true
    }
  },
  "nbformat": 4,
  "nbformat_minor": 5
}