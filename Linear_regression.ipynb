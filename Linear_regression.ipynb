{
  "cells": [
    {
      "cell_type": "markdown",
      "metadata": {
        "id": "view-in-github",
        "colab_type": "text"
      },
      "source": [
        "<a href=\"https://colab.research.google.com/github/in123-new/machine-learning/blob/main/Linear_regression.ipynb\" target=\"_parent\"><img src=\"https://colab.research.google.com/assets/colab-badge.svg\" alt=\"Open In Colab\"/></a>"
      ]
    },
    {
      "cell_type": "markdown",
      "metadata": {
        "id": "9uj7CVoZGVUP"
      },
      "source": [
        "# **Partie 1**"
      ]
    },
    {
      "cell_type": "markdown",
      "metadata": {
        "id": "Xp1IRqmMGmsL"
      },
      "source": [
        "# Methode 01"
      ]
    },
    {
      "cell_type": "code",
      "execution_count": null,
      "metadata": {
        "id": "qTDhcajeFfJd"
      },
      "outputs": [],
      "source": [
        "import matplotlib.pyplot as plt\n",
        "import numpy as np\n",
        "import pandas as pd\n",
        "from sklearn.datasets import make_regression"
      ]
    },
    {
      "cell_type": "code",
      "execution_count": null,
      "metadata": {
        "id": "KpHaLu6zHA21"
      },
      "outputs": [],
      "source": [
        "x,y=make_regression(n_samples=10,n_features=1,noise=3)"
      ]
    },
    {
      "cell_type": "code",
      "execution_count": null,
      "metadata": {
        "colab": {
          "base_uri": "https://localhost:8080/",
          "height": 282
        },
        "id": "8IjpF4V0HZ06",
        "outputId": "794f4b7b-e6c5-44d6-af7f-e75dd437b19e"
      },
      "outputs": [
        {
          "data": {
            "text/plain": [
              "<matplotlib.collections.PathCollection at 0x7f4468823550>"
            ]
          },
          "execution_count": 3,
          "metadata": {},
          "output_type": "execute_result"
        },
        {
          "data": {
            "image/png": "[encoded data removed]",
            "text/plain": [
              "<Figure size 432x288 with 1 Axes>"
            ]
          },
          "metadata": {},
          "output_type": "display_data"
        }
      ],
      "source": [
        "plt.scatter(x,y)"
      ]
    },
    {
      "cell_type": "code",
      "execution_count": null,
      "metadata": {
        "id": "Y75XPH7kHZ5U"
      },
      "outputs": [],
      "source": [
        "mean_x=np.mean(x)\n",
        "mean_y=np.mean(y)"
      ]
    },
    {
      "cell_type": "code",
      "execution_count": null,
      "metadata": {
        "id": "dxWQ39jsHZ9E"
      },
      "outputs": [],
      "source": [
        "var_x=np.var(x)\n",
        "var_y=np.var(y)"
      ]
    },
    {
      "cell_type": "code",
      "execution_count": null,
      "metadata": {
        "id": "kLCT-ExmHaCd"
      },
      "outputs": [],
      "source": [
        "std1=np.std(x)\n",
        "std2=np.std(y)"
      ]
    },
    {
      "cell_type": "code",
      "execution_count": null,
      "metadata": {
        "id": "ikrBxbuWKKKj"
      },
      "outputs": [],
      "source": [
        "cov=np.cov(x,y,rowvar=False)"
      ]
    },
    {
      "cell_type": "code",
      "execution_count": null,
      "metadata": {
        "id": "VEutL4v6KKQE"
      },
      "outputs": [],
      "source": [
        "corr=np.corrcoef(x,y,rowvar=False)"
      ]
    },
    {
      "cell_type": "code",
      "execution_count": null,
      "metadata": {
        "id": "57cTIvgrKKUs"
      },
      "outputs": [],
      "source": [
        "b1=cov[0,1]/var_x\n",
        "b0=mean_y-(mean_x*b1)"
      ]
    },
    {
      "cell_type": "code",
      "execution_count": null,
      "metadata": {
        "colab": {
          "base_uri": "https://localhost:8080/",
          "height": 320
        },
        "id": "K98k8jc9KKdM",
        "outputId": "714ef9d4-067a-49d6-c26b-e83541037cbc"
      },
      "outputs": [
        {
          "data": {
            "text/plain": [
              "<matplotlib.collections.PathCollection at 0x7f4468310fd0>"
            ]
          },
          "execution_count": 10,
          "metadata": {},
          "output_type": "execute_result"
        },
        {
          "name": "stderr",
          "output_type": "stream",
          "text": [
            "/usr/local/lib/python3.7/dist-packages/google/colab/_event_manager.py:28: MatplotlibDeprecationWarning: Support for uppercase single-letter colors is deprecated since Matplotlib 3.1 and will be removed in 3.3; please use lowercase instead.\n",
            "  func(*args, **kwargs)\n"
          ]
        },
        {
          "data": {
            "image/png": "[encoded data removed]",
            "text/plain": [
              "<Figure size 432x288 with 1 Axes>"
            ]
          },
          "metadata": {},
          "output_type": "display_data"
        }
      ],
      "source": [
        "plt.plot(x,y,color='Y')\n",
        "plt.scatter(x,y)"
      ]
    },
    {
      "cell_type": "code",
      "execution_count": null,
      "metadata": {
        "colab": {
          "base_uri": "https://localhost:8080/"
        },
        "id": "TAog9zmyKKog",
        "outputId": "3618939a-3720-4ad7-f44c-c2743e62c1ae"
      },
      "outputs": [
        {
          "data": {
            "text/plain": [
              "array([61.83828998,  3.16389023])"
            ]
          },
          "execution_count": 11,
          "metadata": {},
          "output_type": "execute_result"
        }
      ],
      "source": [
        "  theta=np.array([b1,b0])\n",
        "  theta"
      ]
    },
    {
      "cell_type": "code",
      "execution_count": null,
      "metadata": {
        "colab": {
          "base_uri": "https://localhost:8080/"
        },
        "id": "QKfzR67oKKwv",
        "outputId": "8e502c8d-7a22-41a3-bd3f-83467ade2c14"
      },
      "outputs": [
        {
          "data": {
            "text/plain": [
              "array([-37.40878179, -96.33864406, -65.01835277, -25.21488709,\n",
              "        -5.73599585, -55.98903544,  -5.38184506,  27.19155589,\n",
              "       -92.87643327,  55.3237247 ])"
            ]
          },
          "execution_count": 12,
          "metadata": {},
          "output_type": "execute_result"
        }
      ],
      "source": [
        "F=b0+b1*x\n",
        "F=F.flatten()\n",
        "F"
      ]
    },
    {
      "cell_type": "markdown",
      "metadata": {
        "id": "humKzMbjFBi8"
      },
      "source": [
        "# **Methode 2**"
      ]
    },
    {
      "cell_type": "code",
      "execution_count": null,
      "metadata": {
        "id": "-ZPWA0H5B3FM"
      },
      "outputs": [],
      "source": [
        "def regression_mmc_fit(x,y) :\n",
        "    x=x.reshape((1,10))\n",
        "    b0\n",
        "    b1 \n",
        "    theta\n",
        "    return theta"
      ]
    },
    {
      "cell_type": "code",
      "execution_count": null,
      "metadata": {
        "id": "ZbhpQDm9L41-"
      },
      "outputs": [],
      "source": [
        "def prediction_mmc (x,theta) :\n",
        "   F=b0+x*b1  \n",
        "   F=F.flatten()\n",
        "   return F"
      ]
    },
    {
      "cell_type": "code",
      "execution_count": null,
      "metadata": {
        "id": "PvtosVAlCS10"
      },
      "outputs": [],
      "source": [
        "def prediction_mmc (a,theta) :\n",
        "   y=theta[0]+a*theta[1]  \n",
        "   y=y.flatten()\n",
        "   return y"
      ]
    },
    {
      "cell_type": "code",
      "execution_count": null,
      "metadata": {
        "colab": {
          "base_uri": "https://localhost:8080/"
        },
        "id": "e4KL-slbL47a",
        "outputId": "166430c7-4b18-4d8e-96d3-1eb606c9e7db"
      },
      "outputs": [
        {
          "data": {
            "text/plain": [
              "array([61.83828998,  3.16389023])"
            ]
          },
          "execution_count": 16,
          "metadata": {},
          "output_type": "execute_result"
        }
      ],
      "source": [
        "theta=regression_mmc_fit(x,y)\n",
        "theta"
      ]
    },
    {
      "cell_type": "code",
      "execution_count": null,
      "metadata": {
        "id": "HFOL1jHAIDHO"
      },
      "outputs": [],
      "source": [
        "x1=np.array([-1,-2,-3,0,1,2,3])\n",
        "y1=theta[0]+   x1*(theta[1])\n",
        "plt.plot(x1,y1)\n",
        "plt.scatter(x,y)"
      ]
    },
    {
      "cell_type": "code",
      "execution_count": null,
      "metadata": {
        "id": "fiehu-7ECm_I"
      },
      "outputs": [],
      "source": [
        "y=y.reshape(y.shape[0],1)\n",
        "theta=np.random.randn(2,1)\n",
        "x1=np.hstack((x,np.ones(x.shape)))\n",
        "def model(x1,theta):\n",
        "  matrice=x1.dot(theta)  \n",
        "  return matrice"
      ]
    },
    {
      "cell_type": "code",
      "execution_count": null,
      "metadata": {
        "id": "FKLw9s1oDGDu"
      },
      "outputs": [],
      "source": [
        "def grad(x1,Y,theta):\n",
        "  m=len(y)\n",
        "  return  x1.T.dot(model(x1,theta)-Y)*(1/m)\n",
        "  grad=grad(x1,y,theta)\n",
        "  grad"
      ]
    },
    {
      "cell_type": "code",
      "execution_count": null,
      "metadata": {
        "id": "UYSMNa3TD8BU"
      },
      "outputs": [],
      "source": [
        "def descente_grad(x1,Y,theta,pas,iterations):\n",
        "    for i in range(iterations):\n",
        "        theta=theta-pas*grad(x1,Y,theta)\n",
        "    return theta\n"
      ]
    },
    {
      "cell_type": "code",
      "execution_count": null,
      "metadata": {
        "colab": {
          "base_uri": "https://localhost:8080/"
        },
        "id": "KvkE8ZEeD79P",
        "outputId": "639bf1d4-3471-4425-d493-1dd29ef732e0"
      },
      "outputs": [
        {
          "data": {
            "text/plain": [
              "array([[55.65446098],\n",
              "       [-0.16698574]])"
            ]
          },
          "execution_count": 33,
          "metadata": {},
          "output_type": "execute_result"
        }
      ],
      "source": [
        "theta=descente_grad(x1,y,theta,0.001,500000)\n",
        "theta"
      ]
    },
    {
      "cell_type": "code",
      "execution_count": null,
      "metadata": {
        "colab": {
          "base_uri": "https://localhost:8080/",
          "height": 282
        },
        "id": "bn3-LKhiD75M",
        "outputId": "ef3a1a6a-a596-419b-bdc1-404c21ead01d"
      },
      "outputs": [
        {
          "data": {
            "text/plain": [
              "[<matplotlib.lines.Line2D at 0x7f4467dd6890>]"
            ]
          },
          "execution_count": 34,
          "metadata": {},
          "output_type": "execute_result"
        },
        {
          "data": {
            "image/png": "[encoded data removed]",
            "text/plain": [
              "<Figure size 432x288 with 1 Axes>"
            ]
          },
          "metadata": {},
          "output_type": "display_data"
        }
      ],
      "source": [
        "plt.scatter(x1[:,0],y)\n",
        "plt.plot(x1[:,0],theta[0]*X[:,0]+theta[1],c='red')"
      ]
    },
    {
      "cell_type": "markdown",
      "metadata": {
        "id": "C9yZGKdfGPKl"
      },
      "source": [
        "\n",
        "\n",
        "> Le coefficient de determinantion R²:\n",
        "\n"
      ]
    },
    {
      "cell_type": "code",
      "execution_count": null,
      "metadata": {
        "colab": {
          "base_uri": "https://localhost:8080/"
        },
        "id": "eP0Rl-jCD70z",
        "outputId": "1e88448d-5be6-4435-84b0-c9df6cec2637"
      },
      "outputs": [
        {
          "name": "stdout",
          "output_type": "stream",
          "text": [
            "R^2 = 0.98062051923073\n"
          ]
        }
      ],
      "source": [
        "from sklearn.metrics import r2_score\n",
        "R = r2_score(y, F)\n",
        "print('R^2 =', R )"
      ]
    },
    {
      "cell_type": "code",
      "execution_count": null,
      "metadata": {
        "colab": {
          "base_uri": "https://localhost:8080/"
        },
        "id": "cecf53SFD7p6",
        "outputId": "d9df1274-66a0-4b2e-cfbd-e15ce089f399"
      },
      "outputs": [
        {
          "name": "stdout",
          "output_type": "stream",
          "text": [
            "R^2 =: 0.9928782757211141\n"
          ]
        }
      ],
      "source": [
        "from sklearn.linear_model import LinearRegression\n",
        "Regression_model=LinearRegression()\n",
        "Regression_model.fit(x,y)\n",
        "R=Regression_model.score(x,y)\n",
        "print(f\"R^2 =: {R}\")"
      ]
    },
    {
      "cell_type": "markdown",
      "metadata": {
        "id": "nSioXVLUGy-p"
      },
      "source": [
        "# **Partie 2**"
      ]
    },
    {
      "cell_type": "markdown",
      "metadata": {
        "id": "7HIIsGk-G7DN"
      },
      "source": [
        "**Régression multiple**"
      ]
    },
    {
      "cell_type": "code",
      "execution_count": null,
      "metadata": {
        "id": "cLMBtZxGGvmQ"
      },
      "outputs": [],
      "source": [
        "from sklearn.datasets import make_regression\n",
        "X,Y =make_regression(n_samples=100,n_features=5,noise=3)"
      ]
    },
    {
      "cell_type": "markdown",
      "metadata": {
        "id": "Qy0JcKMOIRR_"
      },
      "source": [
        "\n",
        "1.   Solution 1 \n",
        "\n",
        "\n"
      ]
    },
    {
      "cell_type": "code",
      "execution_count": null,
      "metadata": {
        "id": "0OYO35iGG2i2"
      },
      "outputs": [],
      "source": [
        "#ajouter a x une colonne remplie de 1 \n",
        "x=np.concatenate((x,np.ones((x.shape[0],1))),axis=1)"
      ]
    },
    {
      "cell_type": "code",
      "execution_count": null,
      "metadata": {
        "colab": {
          "base_uri": "https://localhost:8080/"
        },
        "id": "CM1yXHBYGvRo",
        "outputId": "288a41f6-19aa-4c8e-ad35-ba4c47df7e9e"
      },
      "outputs": [
        {
          "name": "stdout",
          "output_type": "stream",
          "text": [
            "[91.85561895  9.55245278 53.00168546 53.1243694  36.76519458]\n"
          ]
        }
      ],
      "source": [
        "a0= np.matmul(X.T,X) \n",
        "a0_inv= np.linalg.inv(a0)\n",
        "a1 = np.matmul(a0_inv,X.T)\n",
        "B=np.matmul(a1,Y)\n",
        "print(B)"
      ]
    },
    {
      "cell_type": "markdown",
      "metadata": {
        "id": "t9-UPEWYTryM"
      },
      "source": [
        "\n",
        "2.   Solution 2\n",
        "\n"
      ]
    },
    {
      "cell_type": "code",
      "execution_count": null,
      "metadata": {
        "id": "PUPquATNTpo9"
      },
      "outputs": [],
      "source": [
        "from sklearn.datasets import make_regression\n",
        "X,Y =make_regression(n_samples=100,n_features=5,noise=3)"
      ]
    },
    {
      "cell_type": "code",
      "execution_count": null,
      "metadata": {
        "id": "51CpxfTyV4YN"
      },
      "outputs": [],
      "source": [
        "def descent_gradient_multi(X,y,theta,pas,iterations):\n",
        "    X = np.c_[np.ones(X.shape[0]),X]\n",
        "    n=len(X)\n",
        "    for i in range(iterations):\n",
        "        XT=np.transpose(X)\n",
        "        theta=theta.reshape(X.shape[1],1) \n",
        "        ypred=np.matmul(X,theta)\n",
        "        ypred=np.array(ypred) \n",
        "        error= ypred.flatten() \n",
        "        error=np.array(error) \n",
        "        grad=np.matmul(XT,error)\n",
        "        grad=np.array(grad)\n",
        "        grad=grad.reshape(X.shape[1],1)\n",
        "        theta = theta - (pas/n) * grad\n",
        "    return theta"
      ]
    },
    {
      "cell_type": "code",
      "execution_count": null,
      "metadata": {
        "id": "HzbuksmtWILR"
      },
      "outputs": [],
      "source": [
        "theta_1=np.random.rand(6)\n",
        "theta_final=descent_gradient_multi(X,Y,theta_1,0.02,500)"
      ]
    },
    {
      "cell_type": "code",
      "execution_count": null,
      "metadata": {
        "colab": {
          "base_uri": "https://localhost:8080/"
        },
        "id": "xy_bmk19WKIC",
        "outputId": "f9863ec2-39a9-4dae-e8f4-ffe57e815813"
      },
      "outputs": [
        {
          "name": "stdout",
          "output_type": "stream",
          "text": [
            "les valeur réelles sont \n",
            "[-33.18059136  94.91951688 132.95278851 161.4047873 ]\n",
            "les valeur prédite sont \n",
            "[ 6.58541583e-05 -1.09778382e-04 -6.06942795e-05 -1.06006764e-04]\n"
          ]
        }
      ],
      "source": [
        "print(\"les valeur réelles sont \")\n",
        "print(Y[1:5])\n",
        "Y_predicted=np.matmul(np.c_[np.ones(X.shape[0]),X],theta_final)\n",
        "Y_predicted=Y_predicted.flatten()\n",
        "print(\"les valeur prédite sont \")\n",
        "print(Y_predicted[1:5])"
      ]
    },
    {
      "cell_type": "code",
      "execution_count": null,
      "metadata": {
        "colab": {
          "base_uri": "https://localhost:8080/"
        },
        "id": "7ZD60IrWWOxr",
        "outputId": "25cc2bd4-ae58-493a-a75f-520999fd4e28"
      },
      "outputs": [
        {
          "output_type": "stream",
          "name": "stdout",
          "text": [
            "R^2 =: 0.16275511319467\n"
          ]
        }
      ],
      "source": [
        "corr_matrix = np.corrcoef(Y, Y_predicted)\n",
        "corr = corr_matrix[0,1]\n",
        "R = corr**2\n",
        "print(f\"R^2 =: {R}\") "
      ]
    },
    {
      "cell_type": "code",
      "execution_count": null,
      "metadata": {
        "colab": {
          "base_uri": "https://localhost:8080/"
        },
        "id": "HQ2eylxnWWrx",
        "outputId": "83a95481-b092-4c2b-c6d0-d6873fa48b27"
      },
      "outputs": [
        {
          "output_type": "execute_result",
          "data": {
            "text/plain": [
              "0.9992304668117487"
            ]
          },
          "metadata": {},
          "execution_count": 79
        }
      ],
      "source": [
        "from sklearn.linear_model import LinearRegression\n",
        "Regression_model=LinearRegression()\n",
        "Regression_model.fit(X,Y)\n",
        "Regression_model.score(X,Y)"
      ]
    },
    {
      "cell_type": "markdown",
      "source": [
        "**Les 2 R² sont assez proches**"
      ],
      "metadata": {
        "id": "_pteDNcLa0WP"
      }
    },
    {
      "cell_type": "code",
      "execution_count": null,
      "metadata": {
        "id": "XwTAP85nWaMX"
      },
      "outputs": [],
      "source": [
        "#Les 2 R² sont assez proches "
      ]
    }
  ],
  "metadata": {
    "colab": {
      "provenance": [],
      "include_colab_link": true
    },
    "kernelspec": {
      "display_name": "Python 3",
      "name": "python3"
    },
    "language_info": {
      "name": "python"
    }
  },
  "nbformat": 4,
  "nbformat_minor": 0
}